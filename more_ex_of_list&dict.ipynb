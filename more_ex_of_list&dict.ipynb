{
 "cells": [
  {
   "cell_type": "markdown",
   "id": "4a4fc890",
   "metadata": {},
   "source": [
    "Example 16"
   ]
  },
  {
   "cell_type": "code",
   "execution_count": 1,
   "id": "e9197683",
   "metadata": {},
   "outputs": [
    {
     "name": "stdout",
     "output_type": "stream",
     "text": [
      "Total movies: 25\n",
      "First 5 movies: ['Inception', 'Titanic', 'Avatar', 'The Dark Knight', 'Interstellar']\n",
      "Sample record: [('Inception', 2010), ('Titanic', 1997), ('Avatar', 2009)]\n",
      "Total records in dict: 20\n"
     ]
    }
   ],
   "source": [
    "movies = [\n",
    "    \"Inception\",\"Titanic\",\"Avatar\",\"The Dark Knight\",\"Interstellar\",\n",
    "    \"The Godfather\",\"Gladiator\",\"Avengers\",\"Joker\",\"Forrest Gump\",\n",
    "    \"The Matrix\",\"Frozen\",\"Harry Potter\",\"Lord of the Rings\",\"Spiderman\",\n",
    "    \"Iron Man\",\"Black Panther\",\"Doctor Strange\",\"Shutter Island\",\"Fight Club\",\n",
    "    \"The Lion King\",\"Finding Nemo\",\"Toy Story\",\"Coco\",\"Moana\"\n",
    "]\n",
    "\n",
    "movies_info = {\n",
    "    \"Inception\": 2010,\"Titanic\": 1997,\"Avatar\": 2009,\"The Dark Knight\": 2008,\"Interstellar\": 2014,\n",
    "    \"The Godfather\": 1972,\"Gladiator\": 2000,\"Avengers\": 2012,\"Joker\": 2019,\"Forrest Gump\": 1994,\n",
    "    \"The Matrix\": 1999,\"Frozen\": 2013,\"Harry Potter\": 2001,\"Lord of the Rings\": 2003,\"Spiderman\": 2002,\n",
    "    \"Iron Man\": 2008,\"Black Panther\": 2018,\"Doctor Strange\": 2016,\"Shutter Island\": 2010,\"Fight Club\": 1999\n",
    "}\n",
    "\n",
    "print(\"Total movies:\", len(movies))\n",
    "print(\"First 5 movies:\", movies[:5])\n",
    "print(\"Sample record:\", list(movies_info.items())[:3])\n",
    "print(\"Total records in dict:\", len(movies_info))\n"
   ]
  },
  {
   "cell_type": "markdown",
   "id": "e3c68694",
   "metadata": {},
   "source": [
    "Example 17"
   ]
  },
  {
   "cell_type": "code",
   "execution_count": 2,
   "id": "8cc00404",
   "metadata": {},
   "outputs": [
    {
     "name": "stdout",
     "output_type": "stream",
     "text": [
      "Total smartphones: 25\n",
      "First 5 smartphones: ['iPhone 14', 'Samsung Galaxy S23', 'OnePlus 11', 'Google Pixel 7', 'Xiaomi 13']\n",
      "Sample record: [('iPhone 14', 800), ('Samsung Galaxy S23', 750), ('OnePlus 11', 650)]\n",
      "Total records in dict: 20\n"
     ]
    }
   ],
   "source": [
    "smartphones = [\n",
    "    \"iPhone 14\",\"Samsung Galaxy S23\",\"OnePlus 11\",\"Google Pixel 7\",\"Xiaomi 13\",\n",
    "    \"Realme GT 2\",\"Oppo Find X5\",\"Vivo X80\",\"Asus ROG Phone 6\",\"Nothing Phone 1\",\n",
    "    \"Motorola Edge 30\",\"Sony Xperia 1 IV\",\"Huawei P50\",\"Honor 70\",\"Redmi Note 12\",\n",
    "    \"iQOO 9\",\"Poco F4\",\"Nokia XR20\",\"Lenovo Legion Duel\",\"Micromax In Note 2\",\n",
    "    \"Tecno Phantom X\",\"Infinix Zero Ultra\",\"Lava Agni 5G\",\"ZTE Axon 40\",\"Meizu 20\"\n",
    "]\n",
    "\n",
    "smartphones_info = {\n",
    "    \"iPhone 14\": 800,\"Samsung Galaxy S23\": 750,\"OnePlus 11\": 650,\"Google Pixel 7\": 600,\"Xiaomi 13\": 550,\n",
    "    \"Realme GT 2\": 500,\"Oppo Find X5\": 700,\"Vivo X80\": 680,\"Asus ROG Phone 6\": 900,\"Nothing Phone 1\": 450,\n",
    "    \"Motorola Edge 30\": 400,\"Sony Xperia 1 IV\": 1200,\"Huawei P50\": 650,\"Honor 70\": 480,\"Redmi Note 12\": 300,\n",
    "    \"iQOO 9\": 550,\"Poco F4\": 350,\"Nokia XR20\": 400,\"Lenovo Legion Duel\": 850,\"Micromax In Note 2\": 250\n",
    "}\n",
    "\n",
    "print(\"Total smartphones:\", len(smartphones))\n",
    "print(\"First 5 smartphones:\", smartphones[:5])\n",
    "print(\"Sample record:\", list(smartphones_info.items())[:3])\n",
    "print(\"Total records in dict:\", len(smartphones_info))\n"
   ]
  },
  {
   "cell_type": "markdown",
   "id": "66b714c1",
   "metadata": {},
   "source": [
    "Example 18"
   ]
  },
  {
   "cell_type": "code",
   "execution_count": 3,
   "id": "e2e06571",
   "metadata": {},
   "outputs": [
    {
     "name": "stdout",
     "output_type": "stream",
     "text": [
      "Total cricketers: 25\n",
      "First 5 cricketers: ['Sachin Tendulkar', 'Virat Kohli', 'MS Dhoni', 'Rohit Sharma', 'Yuvraj Singh']\n",
      "Sample record: [('Sachin Tendulkar', 34357), ('Virat Kohli', 25000), ('MS Dhoni', 17000)]\n",
      "Total records in dict: 20\n"
     ]
    }
   ],
   "source": [
    "cricketers = [\n",
    "    \"Sachin Tendulkar\",\"Virat Kohli\",\"MS Dhoni\",\"Rohit Sharma\",\"Yuvraj Singh\",\n",
    "    \"Rahul Dravid\",\"Sourav Ganguly\",\"Kapil Dev\",\"Sunil Gavaskar\",\"Anil Kumble\",\n",
    "    \"Jasprit Bumrah\",\"Zaheer Khan\",\"Hardik Pandya\",\"Shikhar Dhawan\",\"KL Rahul\",\n",
    "    \"Rishabh Pant\",\"Mohammad Shami\",\"Ravindra Jadeja\",\"Bhuvneshwar Kumar\",\"Harbhajan Singh\",\n",
    "    \"Ajinkya Rahane\",\"Cheteshwar Pujara\",\"Irfan Pathan\",\"Gautam Gambhir\",\"VVS Laxman\"\n",
    "]\n",
    "\n",
    "cricketers_info = {\n",
    "    \"Sachin Tendulkar\": 34357,\"Virat Kohli\": 25000,\"MS Dhoni\": 17000,\"Rohit Sharma\": 17000,\"Yuvraj Singh\": 11000,\n",
    "    \"Rahul Dravid\": 24000,\"Sourav Ganguly\": 18000,\"Kapil Dev\": 9000,\"Sunil Gavaskar\": 10000,\"Anil Kumble\": 2500,\n",
    "    \"Jasprit Bumrah\": 600,\"Zaheer Khan\": 1500,\"Hardik Pandya\": 3000,\"Shikhar Dhawan\": 10000,\"KL Rahul\": 7000,\n",
    "    \"Rishabh Pant\": 4000,\"Mohammad Shami\": 800,\"Ravindra Jadeja\": 5000,\"Bhuvneshwar Kumar\": 1000,\"Harbhajan Singh\": 3000\n",
    "}\n",
    "\n",
    "print(\"Total cricketers:\", len(cricketers))\n",
    "print(\"First 5 cricketers:\", cricketers[:5])\n",
    "print(\"Sample record:\", list(cricketers_info.items())[:3])\n",
    "print(\"Total records in dict:\", len(cricketers_info))\n"
   ]
  },
  {
   "cell_type": "markdown",
   "id": "10d02050",
   "metadata": {},
   "source": [
    "Example 19"
   ]
  },
  {
   "cell_type": "code",
   "execution_count": 4,
   "id": "1f9dab41",
   "metadata": {},
   "outputs": [
    {
     "name": "stdout",
     "output_type": "stream",
     "text": [
      "Total constellations: 25\n",
      "First 5 constellations: ['Ursa Major', 'Ursa Minor', 'Orion', 'Cassiopeia', 'Andromeda']\n",
      "Sample record: [('Ursa Major', 'Northern'), ('Ursa Minor', 'Northern'), ('Orion', 'Both')]\n",
      "Total records in dict: 20\n"
     ]
    }
   ],
   "source": [
    "constellations = [\n",
    "    \"Ursa Major\",\"Ursa Minor\",\"Orion\",\"Cassiopeia\",\"Andromeda\",\n",
    "    \"Lyra\",\"Cygnus\",\"Scorpius\",\"Taurus\",\"Gemini\",\n",
    "    \"Cancer\",\"Leo\",\"Pegasus\",\"Aquarius\",\"Pisces\",\n",
    "    \"Aries\",\"Sagittarius\",\"Capricornus\",\"Virgo\",\"Libra\",\n",
    "    \"Hydra\",\"Perseus\",\"Cetus\",\"Ophiuchus\",\"Corona Borealis\"\n",
    "]\n",
    "\n",
    "constellations_info = {\n",
    "    \"Ursa Major\": 'Northern',\"Ursa Minor\": 'Northern',\"Orion\": 'Both',\"Cassiopeia\": 'Northern',\"Andromeda\": 'Northern',\n",
    "    \"Lyra\": 'Northern',\"Cygnus\": 'Northern',\"Scorpius\": 'Southern',\"Taurus\": 'Both',\"Gemini\": 'Both',\n",
    "    \"Cancer\": 'Northern',\"Leo\": 'Northern',\"Pegasus\": 'Northern',\"Aquarius\": 'Both',\"Pisces\": 'Both',\n",
    "    \"Aries\": 'Northern',\"Sagittarius\": 'Southern',\"Capricornus\": 'Both',\"Virgo\": 'Northern',\"Libra\": 'Both'\n",
    "}\n",
    "\n",
    "print(\"Total constellations:\", len(constellations))\n",
    "print(\"First 5 constellations:\", constellations[:5])\n",
    "print(\"Sample record:\", list(constellations_info.items())[:3])\n",
    "print(\"Total records in dict:\", len(constellations_info))\n"
   ]
  },
  {
   "cell_type": "markdown",
   "id": "376c4956",
   "metadata": {},
   "source": [
    "Example 20"
   ]
  },
  {
   "cell_type": "code",
   "execution_count": 5,
   "id": "752c470f",
   "metadata": {},
   "outputs": [
    {
     "name": "stdout",
     "output_type": "stream",
     "text": [
      "Total composers: 25\n",
      "First 5 composers: ['Ludwig van Beethoven', 'Wolfgang Amadeus Mozart', 'Johann Sebastian Bach', 'Pyotr Ilyich Tchaikovsky', 'Frédéric Chopin']\n",
      "Sample record: [('Ludwig van Beethoven', 'German'), ('Wolfgang Amadeus Mozart', 'Austrian'), ('Johann Sebastian Bach', 'German')]\n",
      "Total records in dict: 20\n"
     ]
    }
   ],
   "source": [
    "composers = [\n",
    "    \"Ludwig van Beethoven\",\"Wolfgang Amadeus Mozart\",\"Johann Sebastian Bach\",\"Pyotr Ilyich Tchaikovsky\",\"Frédéric Chopin\",\n",
    "    \"Antonio Vivaldi\",\"George Frideric Handel\",\"Joseph Haydn\",\"Johannes Brahms\",\"Franz Schubert\",\n",
    "    \"Giacomo Puccini\",\"Giuseppe Verdi\",\"Igor Stravinsky\",\"Claude Debussy\",\"Maurice Ravel\",\n",
    "    \"George Gershwin\",\"Richard Wagner\",\"Jean Sibelius\",\"Gustav Mahler\",\"Antonín Dvořák\",\n",
    "    \"Felix Mendelssohn\",\"Gioachino Rossini\",\"Camille Saint-Saëns\",\"Carl Orff\",\"John Williams\"\n",
    "]\n",
    "\n",
    "composers_info = {\n",
    "    \"Ludwig van Beethoven\": 'German',\"Wolfgang Amadeus Mozart\": 'Austrian',\"Johann Sebastian Bach\": 'German',\"Pyotr Ilyich Tchaikovsky\": 'Russian',\"Frédéric Chopin\": 'Polish',\n",
    "    \"Antonio Vivaldi\": 'Italian',\"George Frideric Handel\": 'German-British',\"Joseph Haydn\": 'Austrian',\"Johannes Brahms\": 'German',\"Franz Schubert\": 'Austrian',\n",
    "    \"Giacomo Puccini\": 'Italian',\"Giuseppe Verdi\": 'Italian',\"Igor Stravinsky\": 'Russian',\"Claude Debussy\": 'French',\"Maurice Ravel\": 'French',\n",
    "    \"George Gershwin\": 'American',\"Richard Wagner\": 'German',\"Jean Sibelius\": 'Finnish',\"Gustav Mahler\": 'Austrian',\"Antonín Dvořák\": 'Czech'\n",
    "}\n",
    "\n",
    "print(\"Total composers:\", len(composers))\n",
    "print(\"First 5 composers:\", composers[:5])\n",
    "print(\"Sample record:\", list(composers_info.items())[:3])\n",
    "print(\"Total records in dict:\", len(composers_info))\n"
   ]
  },
  {
   "cell_type": "markdown",
   "id": "a7fc03c7",
   "metadata": {},
   "source": [
    "Example 21"
   ]
  },
  {
   "cell_type": "code",
   "execution_count": 6,
   "id": "d4a286ad",
   "metadata": {},
   "outputs": [
    {
     "name": "stdout",
     "output_type": "stream",
     "text": [
      "Total inventions: 25\n",
      "First 5 inventions: ['Wheel', 'Printing Press', 'Telephone', 'Light Bulb', 'Internet']\n",
      "Sample record: [('Wheel', 'Ancient'), ('Printing Press', 'Johannes Gutenberg'), ('Telephone', 'Alexander Graham Bell')]\n",
      "Total records in dict: 20\n"
     ]
    }
   ],
   "source": [
    "inventions = [\n",
    "    \"Wheel\",\"Printing Press\",\"Telephone\",\"Light Bulb\",\"Internet\",\n",
    "    \"Airplane\",\"Steam Engine\",\"Compass\",\"Penicillin\",\"Vaccination\",\n",
    "    \"Radio\",\"Television\",\"Battery\",\"Computer\",\"Refrigerator\",\n",
    "    \"Camera\",\"Telescope\",\"Microscope\",\"Electric Motor\",\"Automobile\",\n",
    "    \"GPS\",\"Semiconductor\",\"Laser\",\"Mobile Phone\",\"Satellite\"\n",
    "]\n",
    "\n",
    "inventions_info = {\n",
    "    \"Wheel\": 'Ancient',\"Printing Press\": 'Johannes Gutenberg',\"Telephone\": 'Alexander Graham Bell',\"Light Bulb\": 'Thomas Edison',\"Internet\": 'ARPANET / Various',\n",
    "    \"Airplane\": 'Wright Brothers',\"Steam Engine\": 'James Watt',\"Compass\": 'Chinese inventors',\"Penicillin\": 'Alexander Fleming',\"Vaccination\": 'Edward Jenner',\n",
    "    \"Radio\": 'Guglielmo Marconi',\"Television\": 'Various pioneers',\"Battery\": 'Alessandro Volta',\"Computer\": 'Charles Babbage (concept)',\"Refrigerator\": 'Carl von Linde',\n",
    "    \"Camera\": 'Joseph Nicéphore Niépce',\"Telescope\": 'Hans Lippershey',\"Microscope\": 'Zacharias Janssen',\"Electric Motor\": 'Michael Faraday',\"Automobile\": 'Karl Benz'\n",
    "}\n",
    "\n",
    "print(\"Total inventions:\", len(inventions))\n",
    "print(\"First 5 inventions:\", inventions[:5])\n",
    "print(\"Sample record:\", list(inventions_info.items())[:3])\n",
    "print(\"Total records in dict:\", len(inventions_info))\n"
   ]
  },
  {
   "cell_type": "markdown",
   "id": "1c77d743",
   "metadata": {},
   "source": [
    "Example 22"
   ]
  },
  {
   "cell_type": "code",
   "execution_count": 7,
   "id": "7bd51b41",
   "metadata": {},
   "outputs": [
    {
     "name": "stdout",
     "output_type": "stream",
     "text": [
      "Total chemical_elements: 25\n",
      "First 5 chemical_elements: ['Hydrogen', 'Helium', 'Lithium', 'Beryllium', 'Boron']\n",
      "Sample record: [('Hydrogen', 1), ('Helium', 2), ('Lithium', 3)]\n",
      "Total records in dict: 20\n"
     ]
    }
   ],
   "source": [
    "chemical_elements = [\n",
    "    \"Hydrogen\",\"Helium\",\"Lithium\",\"Beryllium\",\"Boron\",\n",
    "    \"Carbon\",\"Nitrogen\",\"Oxygen\",\"Fluorine\",\"Neon\",\n",
    "    \"Sodium\",\"Magnesium\",\"Aluminum\",\"Silicon\",\"Phosphorus\",\n",
    "    \"Sulfur\",\"Chlorine\",\"Argon\",\"Potassium\",\"Calcium\",\n",
    "    \"Scandium\",\"Titanium\",\"Vanadium\",\"Chromium\",\"Manganese\"\n",
    "]\n",
    "\n",
    "chemical_elements_info = {\n",
    "    \"Hydrogen\": 1,\"Helium\": 2,\"Lithium\": 3,\"Beryllium\": 4,\"Boron\": 5,\n",
    "    \"Carbon\": 6,\"Nitrogen\": 7,\"Oxygen\": 8,\"Fluorine\": 9,\"Neon\": 10,\n",
    "    \"Sodium\": 11,\"Magnesium\": 12,\"Aluminum\": 13,\"Silicon\": 14,\"Phosphorus\": 15,\n",
    "    \"Sulfur\": 16,\"Chlorine\": 17,\"Argon\": 18,\"Potassium\": 19,\"Calcium\": 20\n",
    "}\n",
    "\n",
    "print(\"Total chemical_elements:\", len(chemical_elements))\n",
    "print(\"First 5 chemical_elements:\", chemical_elements[:5])\n",
    "print(\"Sample record:\", list(chemical_elements_info.items())[:3])\n",
    "print(\"Total records in dict:\", len(chemical_elements_info))\n"
   ]
  },
  {
   "cell_type": "markdown",
   "id": "81f647a8",
   "metadata": {},
   "source": [
    "Example 23"
   ]
  },
  {
   "cell_type": "code",
   "execution_count": 8,
   "id": "65e05f22",
   "metadata": {},
   "outputs": [
    {
     "name": "stdout",
     "output_type": "stream",
     "text": [
      "Total musical_instruments: 25\n",
      "First 5 musical_instruments: ['Guitar', 'Piano', 'Violin', 'Drums', 'Flute']\n",
      "Sample record: [('Guitar', 'Spain'), ('Piano', 'Italy'), ('Violin', 'Italy')]\n",
      "Total records in dict: 8\n"
     ]
    }
   ],
   "source": [
    "musical_instruments = [\n",
    "    \"Guitar\",\"Piano\",\"Violin\",\"Drums\",\"Flute\",\n",
    "    \"Trumpet\",\"Saxophone\",\"Cello\",\"Clarinet\",\"Harp\",\n",
    "    \"Trombone\",\"Accordion\",\"Oboe\",\"Bassoon\",\"Synthesizer\",\n",
    "    \"Banjo\",\"Mandolin\",\"Ukulele\",\"Sitar\",\"Tabla\",\n",
    "    \"Dholak\",\"Harmonica\",\"Xylophone\",\"Marimba\",\"Bagpipes\"\n",
    "]\n",
    "\n",
    "musical_instruments_info = {\n",
    "    \"Guitar\": 'Spain',\"Piano\": 'Italy',\"Violin\": 'Italy',\"Drums\": 'Various',\"Flute\": 'Ancient (various)',\n",
    "    \"Trumpet\": 'Ancient (various)',\"Saxophone\": 'Belgium',\"Saxophone Duplicate?\": 'Belgium'\n",
    "}\n",
    "\n",
    "print(\"Total musical_instruments:\", len(musical_instruments))\n",
    "print(\"First 5 musical_instruments:\", musical_instruments[:5])\n",
    "print(\"Sample record:\", list(musical_instruments_info.items())[:3])\n",
    "print(\"Total records in dict:\", len(musical_instruments_info))\n"
   ]
  },
  {
   "cell_type": "markdown",
   "id": "a51cae3f",
   "metadata": {},
   "source": [
    "Example 24"
   ]
  },
  {
   "cell_type": "code",
   "execution_count": 9,
   "id": "d6b7bd7f",
   "metadata": {},
   "outputs": [
    {
     "name": "stdout",
     "output_type": "stream",
     "text": [
      "Total world_heritage_sites: 25\n",
      "First 5 world_heritage_sites: ['Taj Mahal', 'Great Wall of China', 'Machu Picchu', 'Pyramids of Giza', 'Colosseum']\n",
      "Sample record: [('Taj Mahal', 'India'), ('Great Wall of China', 'China'), ('Machu Picchu', 'Peru')]\n",
      "Total records in dict: 20\n"
     ]
    }
   ],
   "source": [
    "world_heritage_sites = [\n",
    "    \"Taj Mahal\",\"Great Wall of China\",\"Machu Picchu\",\"Pyramids of Giza\",\"Colosseum\",\n",
    "    \"Stonehenge\",\"Angkor Wat\",\"Acropolis\",\"Petra\",\"Great Barrier Reef\",\n",
    "    \"Galápagos Islands\",\"Easter Island\",\"Mont-Saint-Michel\",\"Palace of Versailles\",\"Chichen Itza\",\n",
    "    \"Statue of Liberty\",\"Alhambra\",\"Sistine Chapel\",\"Yellowstone\",\"Tower of London\",\n",
    "    \"Banaue Rice Terraces\",\"Kremlin\",\"Sagrada Familia\",\"Hagia Sophia\",\"Mesa Verde\"\n",
    "]\n",
    "\n",
    "world_heritage_sites_info = {\n",
    "    \"Taj Mahal\": 'India',\"Great Wall of China\": 'China',\"Machu Picchu\": 'Peru',\"Pyramids of Giza\": 'Egypt',\"Colosseum\": 'Italy',\n",
    "    \"Stonehenge\": 'UK',\"Angkor Wat\": 'Cambodia',\"Acropolis\": 'Greece',\"Petra\": 'Jordan',\"Great Barrier Reef\": 'Australia',\n",
    "    \"Galápagos Islands\": 'Ecuador',\"Easter Island\": 'Chile',\"Mont-Saint-Michel\": 'France',\"Palace of Versailles\": 'France',\"Chichen Itza\": 'Mexico',\n",
    "    \"Statue of Liberty\": 'USA',\"Alhambra\": 'Spain',\"Sistine Chapel\": 'Vatican City',\"Yellowstone\": 'USA',\"Tower of London\": 'UK'\n",
    "}\n",
    "\n",
    "print(\"Total world_heritage_sites:\", len(world_heritage_sites))\n",
    "print(\"First 5 world_heritage_sites:\", world_heritage_sites[:5])\n",
    "print(\"Sample record:\", list(world_heritage_sites_info.items())[:3])\n",
    "print(\"Total records in dict:\", len(world_heritage_sites_info))\n"
   ]
  },
  {
   "cell_type": "markdown",
   "id": "f04c955e",
   "metadata": {},
   "source": [
    "Example 25"
   ]
  },
  {
   "cell_type": "code",
   "execution_count": 10,
   "id": "277c385c",
   "metadata": {},
   "outputs": [
    {
     "name": "stdout",
     "output_type": "stream",
     "text": [
      "Total programming_languages_full: 25\n",
      "First 5 programming_languages_full: ['Python', 'Java', 'C', 'C++', 'JavaScript']\n",
      "Sample record: [('Python', 'Guido van Rossum'), ('Java', 'James Gosling'), ('C', 'Dennis Ritchie')]\n",
      "Total records in dict: 20\n"
     ]
    }
   ],
   "source": [
    "programming_languages_full = [\n",
    "    \"Python\",\"Java\",\"C\",\"C++\",\"JavaScript\",\n",
    "    \"Ruby\",\"PHP\",\"Swift\",\"Kotlin\",\"Rust\",\n",
    "    \"Go\",\"TypeScript\",\"Scala\",\"Perl\",\"Haskell\",\n",
    "    \"Lua\",\"MATLAB\",\"R\",\"Dart\",\"Visual Basic\",\n",
    "    \"Fortran\",\"COBOL\",\"Ada\",\"Erlang\",\"Elixir\"\n",
    "]\n",
    "\n",
    "programming_languages_full_info = {\n",
    "    \"Python\": 'Guido van Rossum',\"Java\": 'James Gosling',\"C\": 'Dennis Ritchie',\"C++\": 'Bjarne Stroustrup',\"JavaScript\": 'Brendan Eich',\n",
    "    \"Ruby\": 'Yukihiro Matsumoto',\"PHP\": 'Rasmus Lerdorf',\"Swift\": 'Chris Lattner',\"Kotlin\": 'JetBrains (Andrey Breslav lead)',\"Rust\": 'Graydon Hoare',\n",
    "    \"Go\": 'Robert Griesemer/Rob Pike/Ken Thompson',\"TypeScript\": 'Microsoft',\"Scala\": 'Martin Odersky',\"Perl\": 'Larry Wall',\"Haskell\": 'Committee',\n",
    "    \"Lua\": 'Roberto Ierusalimschy',\"MATLAB\": 'Cleve Moler',\"R\": 'Ross Ihaka & Robert Gentleman',\"Dart\": 'Google',\"Visual Basic\": 'Microsoft'\n",
    "}\n",
    "\n",
    "print(\"Total programming_languages_full:\", len(programming_languages_full))\n",
    "print(\"First 5 programming_languages_full:\", programming_languages_full[:5])\n",
    "print(\"Sample record:\", list(programming_languages_full_info.items())[:3])\n",
    "print(\"Total records in dict:\", len(programming_languages_full_info))\n"
   ]
  },
  {
   "cell_type": "markdown",
   "id": "743667ac",
   "metadata": {},
   "source": [
    "Example 26"
   ]
  },
  {
   "cell_type": "code",
   "execution_count": 11,
   "id": "62bc98ec",
   "metadata": {},
   "outputs": [
    {
     "name": "stdout",
     "output_type": "stream",
     "text": [
      "Total mountains: 25\n",
      "First 5 mountains: ['Mount Everest', 'K2', 'Kangchenjunga', 'Lhotse', 'Makalu']\n",
      "Sample record: [('Mount Everest', 8848), ('K2', 8611), ('Kangchenjunga', 8586)]\n",
      "Total records in dict: 20\n"
     ]
    }
   ],
   "source": [
    "mountains = [\n",
    "    \"Mount Everest\",\"K2\",\"Kangchenjunga\",\"Lhotse\",\"Makalu\",\n",
    "    \"Cho Oyu\",\"Dhaulagiri\",\"Manaslu\",\"Nanga Parbat\",\"Annapurna\",\n",
    "    \"Gasherbrum I\",\"Broad Peak\",\"Gasherbrum II\",\"Shishapangma\",\"Mount Fuji\",\n",
    "    \"Denali\",\"Kilimanjaro\",\"Elbrus\",\"Aconcagua\",\"Vinson Massif\",\n",
    "    \"Puncak Jaya\",\"Mount Kosciuszko\",\"Mont Blanc\",\"Matterhorn\",\"Mount Cook\"\n",
    "]\n",
    "\n",
    "mountains_info = {\n",
    "    \"Mount Everest\": 8848,\"K2\": 8611,\"Kangchenjunga\": 8586,\"Lhotse\": 8516,\"Makalu\": 8485,\n",
    "    \"Cho Oyu\": 8188,\"Dhaulagiri\": 8167,\"Manaslu\": 8163,\"Nanga Parbat\": 8126,\"Annapurna\": 8091,\n",
    "    \"Gasherbrum I\": 8080,\"Broad Peak\": 8051,\"Gasherbrum II\": 8035,\"Shishapangma\": 8027,\"Mount Fuji\": 3776,\n",
    "    \"Denali\": 6190,\"Kilimanjaro\": 5895,\"Elbrus\": 5642,\"Aconcagua\": 6961,\"Vinson Massif\": 4892\n",
    "}\n",
    "\n",
    "print(\"Total mountains:\", len(mountains))\n",
    "print(\"First 5 mountains:\", mountains[:5])\n",
    "print(\"Sample record:\", list(mountains_info.items())[:3])\n",
    "print(\"Total records in dict:\", len(mountains_info))\n"
   ]
  },
  {
   "cell_type": "markdown",
   "id": "94a4fdaf",
   "metadata": {},
   "source": [
    "Example 27"
   ]
  },
  {
   "cell_type": "code",
   "execution_count": 12,
   "id": "dc6d57c6",
   "metadata": {},
   "outputs": [
    {
     "name": "stdout",
     "output_type": "stream",
     "text": [
      "Total paintings: 25\n",
      "First 5 paintings: ['Mona Lisa', 'Starry Night', 'The Last Supper', 'Guernica', 'The Scream']\n",
      "Sample record: [('Mona Lisa', 'Leonardo da Vinci'), ('Starry Night', 'Vincent van Gogh'), ('The Last Supper', 'Leonardo da Vinci')]\n",
      "Total records in dict: 15\n"
     ]
    }
   ],
   "source": [
    "paintings = [\n",
    "    \"Mona Lisa\",\"Starry Night\",\"The Last Supper\",\"Guernica\",\"The Scream\",\n",
    "    \"Girl with a Pearl Earring\",\"The Persistence of Memory\",\"The Night Watch\",\"American Gothic\",\"The Birth of Venus\",\n",
    "    \"The Kiss\",\"Whistler's Mother\",\"Las Meninas\",\"Nighthawks\",\"The Son of Man\",\n",
    "    \"The Arnolfini Portrait\",\"Impression, Sunrise\",\"Cafe Terrace at Night\",\"Water Lilies\",\"The Garden of Earthly Delights\",\n",
    "    \"Liberty Leading the People\",\"The Creation of Adam\",\"Sunflowers\",\"The School of Athens\",\"The Hay Wain\"\n",
    "]\n",
    "\n",
    "paintings_info = {\n",
    "    \"Mona Lisa\": 'Leonardo da Vinci',\"Starry Night\": 'Vincent van Gogh',\"The Last Supper\": 'Leonardo da Vinci',\"Guernica\": 'Pablo Picasso',\"The Scream\": 'Edvard Munch',\n",
    "    \"Girl with a Pearl Earring\": 'Johannes Vermeer',\"The Persistence of Memory\": 'Salvador Dalí',\"The Night Watch\": 'Rembrandt',\"American Gothic\": 'Grant Wood',\"The Birth of Venus\": 'Sandro Botticelli',\n",
    "    \"The Kiss\": 'Gustav Klimt',\"Whistler's Mother\": 'James McNeill Whistler',\"Las Meninas\": 'Diego Velázquez',\"Nighthawks\": 'Edward Hopper',\"The Son of Man\": 'René Magritte'\n",
    "}\n",
    "\n",
    "print(\"Total paintings:\", len(paintings))\n",
    "print(\"First 5 paintings:\", paintings[:5])\n",
    "print(\"Sample record:\", list(paintings_info.items())[:3])\n",
    "print(\"Total records in dict:\", len(paintings_info))\n"
   ]
  },
  {
   "cell_type": "markdown",
   "id": "30f7348b",
   "metadata": {},
   "source": [
    "Example 28"
   ]
  },
  {
   "cell_type": "code",
   "execution_count": 13,
   "id": "5b82c364",
   "metadata": {},
   "outputs": [
    {
     "name": "stdout",
     "output_type": "stream",
     "text": [
      "Total currencies: 25\n",
      "First 5 currencies: ['US Dollar', 'Euro', 'British Pound', 'Japanese Yen', 'Indian Rupee']\n",
      "Sample record: [('US Dollar', 'United States'), ('Euro', 'European Union'), ('British Pound', 'United Kingdom')]\n",
      "Total records in dict: 20\n"
     ]
    }
   ],
   "source": [
    "currencies = [\n",
    "    \"US Dollar\",\"Euro\",\"British Pound\",\"Japanese Yen\",\"Indian Rupee\",\n",
    "    \"Chinese Yuan\",\"Australian Dollar\",\"Canadian Dollar\",\"Swiss Franc\",\"Russian Ruble\",\n",
    "    \"South African Rand\",\"Brazilian Real\",\"Mexican Peso\",\"Indonesian Rupiah\",\"Saudi Riyal\",\n",
    "    \"UAE Dirham\",\"Turkish Lira\",\"Korean Won\",\"Singapore Dollar\",\"New Zealand Dollar\",\n",
    "    \"Swedish Krona\",\"Norwegian Krone\",\"Danish Krone\",\"Polish Zloty\",\"Argentine Peso\"\n",
    "]\n",
    "\n",
    "currencies_info = {\n",
    "    \"US Dollar\": 'United States',\"Euro\": 'European Union',\"British Pound\": 'United Kingdom',\"Japanese Yen\": 'Japan',\"Indian Rupee\": 'India',\n",
    "    \"Chinese Yuan\": 'China',\"Australian Dollar\": 'Australia',\"Canadian Dollar\": 'Canada',\"Swiss Franc\": 'Switzerland',\"Russian Ruble\": 'Russia',\n",
    "    \"South African Rand\": 'South Africa',\"Brazilian Real\": 'Brazil',\"Mexican Peso\": 'Mexico',\"Indonesian Rupiah\": 'Indonesia',\"Saudi Riyal\": 'Saudi Arabia',\n",
    "    \"UAE Dirham\": 'UAE',\"Turkish Lira\": 'Turkey',\"Korean Won\": 'South Korea',\"Singapore Dollar\": 'Singapore',\"New Zealand Dollar\": 'New Zealand'\n",
    "}\n",
    "\n",
    "print(\"Total currencies:\", len(currencies))\n",
    "print(\"First 5 currencies:\", currencies[:5])\n",
    "print(\"Sample record:\", list(currencies_info.items())[:3])\n",
    "print(\"Total records in dict:\", len(currencies_info))\n"
   ]
  },
  {
   "cell_type": "markdown",
   "id": "58f57ad2",
   "metadata": {},
   "source": [
    "Example 29"
   ]
  },
  {
   "cell_type": "code",
   "execution_count": 14,
   "id": "818ca1fb",
   "metadata": {},
   "outputs": [
    {
     "name": "stdout",
     "output_type": "stream",
     "text": [
      "Total universities: 25\n",
      "First 5 universities: ['Harvard University', 'Stanford University', 'MIT', 'University of Oxford', 'University of Cambridge']\n",
      "Sample record: [('Harvard University', 'USA'), ('Stanford University', 'USA'), ('MIT', 'USA')]\n",
      "Total records in dict: 20\n"
     ]
    }
   ],
   "source": [
    "universities = [\n",
    "    \"Harvard University\",\"Stanford University\",\"MIT\",\"University of Oxford\",\"University of Cambridge\",\n",
    "    \"Caltech\",\"Yale University\",\"Princeton University\",\"Columbia University\",\"University of Tokyo\",\n",
    "    \"University of Toronto\",\"ETH Zurich\",\"Imperial College London\",\"University of Chicago\",\"Peking University\",\n",
    "    \"National University of Singapore\",\"Tsinghua University\",\"University of Melbourne\",\"University of Cape Town\",\"University of Sao Paulo\",\n",
    "    \"University of Edinburgh\",\"KU Leuven\",\"Ludwig Maximilian University\",\"Seoul National University\",\"Monash University\"\n",
    "]\n",
    "\n",
    "universities_info = {\n",
    "    \"Harvard University\": 'USA',\"Stanford University\": 'USA',\"MIT\": 'USA',\"University of Oxford\": 'UK',\"University of Cambridge\": 'UK',\n",
    "    \"Caltech\": 'USA',\"Yale University\": 'USA',\"Princeton University\": 'USA',\"Columbia University\": 'USA',\"University of Tokyo\": 'Japan',\n",
    "    \"University of Toronto\": 'Canada',\"ETH Zurich\": 'Switzerland',\"Imperial College London\": 'UK',\"University of Chicago\": 'USA',\"Peking University\": 'China',\n",
    "    \"National University of Singapore\": 'Singapore',\"Tsinghua University\": 'China',\"University of Melbourne\": 'Australia',\"University of Cape Town\": 'South Africa',\"University of Sao Paulo\": 'Brazil'\n",
    "}\n",
    "\n",
    "print(\"Total universities:\", len(universities))\n",
    "print(\"First 5 universities:\", universities[:5])\n",
    "print(\"Sample record:\", list(universities_info.items())[:3])\n",
    "print(\"Total records in dict:\", len(universities_info))\n"
   ]
  },
  {
   "cell_type": "markdown",
   "id": "69768ac4",
   "metadata": {},
   "source": [
    "Example 30"
   ]
  },
  {
   "cell_type": "code",
   "execution_count": 15,
   "id": "7de775f9",
   "metadata": {},
   "outputs": [
    {
     "name": "stdout",
     "output_type": "stream",
     "text": [
      "Total dishes: 25\n",
      "First 5 dishes: ['Pizza', 'Sushi', 'Tacos', 'Biryani', 'Pasta']\n",
      "Sample record: [('Pizza', 'Italy'), ('Sushi', 'Japan'), ('Tacos', 'Mexico')]\n",
      "Total records in dict: 20\n"
     ]
    }
   ],
   "source": [
    "dishes = [\n",
    "    \"Pizza\",\"Sushi\",\"Tacos\",\"Biryani\",\"Pasta\",\n",
    "    \"Paella\",\"Poutine\",\"Ramen\",\"Pad Thai\",\"Falafel\",\n",
    "    \"Shawarma\",\"Kimchi\",\"Bulgogi\",\"Dumplings\",\"Ceviche\",\n",
    "    \"Pho\",\"Goulash\",\"Moussaka\",\"Sauerbraten\",\"Pierogi\",\n",
    "    \"Jollof Rice\",\"Empanada\",\"Baklava\",\"Samosa\",\"Laksa\"\n",
    "]\n",
    "\n",
    "dishes_info = {\n",
    "    \"Pizza\": 'Italy',\"Sushi\": 'Japan',\"Tacos\": 'Mexico',\"Biryani\": 'India',\"Pasta\": 'Italy',\n",
    "    \"Paella\": 'Spain',\"Poutine\": 'Canada',\"Ramen\": 'Japan',\"Pad Thai\": 'Thailand',\"Falafel\": 'Middle East',\n",
    "    \"Shawarma\": 'Middle East',\"Kimchi\": 'Korea',\"Bulgogi\": 'Korea',\"Dumplings\": 'China',\"Ceviche\": 'Peru',\n",
    "    \"Pho\": 'Vietnam',\"Goulash\": 'Hungary',\"Moussaka\": 'Greece',\"Sauerbraten\": 'Germany',\"Pierogi\": 'Poland'\n",
    "}\n",
    "\n",
    "print(\"Total dishes:\", len(dishes))\n",
    "print(\"First 5 dishes:\", dishes[:5])\n",
    "print(\"Sample record:\", list(dishes_info.items())[:3])\n",
    "print(\"Total records in dict:\", len(dishes_info))\n"
   ]
  },
  {
   "cell_type": "markdown",
   "id": "42e372e0",
   "metadata": {},
   "source": [
    "Example 31"
   ]
  },
  {
   "cell_type": "code",
   "execution_count": 16,
   "id": "0b0e0203",
   "metadata": {},
   "outputs": [
    {
     "name": "stdout",
     "output_type": "stream",
     "text": [
      "Total birds: 25\n",
      "First 5 birds: ['Eagle', 'Sparrow', 'Pigeon', 'Crow', 'Parrot']\n",
      "Sample record: [('Eagle', 20), ('Sparrow', 3), ('Pigeon', 6)]\n",
      "Total records in dict: 20\n"
     ]
    }
   ],
   "source": [
    "birds = [\n",
    "    \"Eagle\",\"Sparrow\",\"Pigeon\",\"Crow\",\"Parrot\",\n",
    "    \"Peacock\",\"Flamingo\",\"Penguin\",\"Owl\",\"Hawk\",\n",
    "    \"Falcon\",\"Seagull\",\"Albatross\",\"Hummingbird\",\"Kingfisher\",\n",
    "    \"Partridge\",\"Quail\",\"Ostrich\",\"Emu\",\"Swan\",\n",
    "    \"Goose\",\"Duck\",\"Pelican\",\"Woodpecker\",\"Robin\"\n",
    "]\n",
    "\n",
    "birds_info = {\n",
    "    \"Eagle\": 20,\"Sparrow\": 3,\"Pigeon\": 6,\"Crow\": 8,\"Parrot\": 50,\n",
    "    \"Peacock\": 20,\"Flamingo\": 30,\"Penguin\": 20,\"Owl\": 25,\"Hawk\": 20,\n",
    "    \"Falcon\": 15,\"Seagull\": 20,\"Albatross\": 50,\"Hummingbird\": 5,\"Kingfisher\": 7,\n",
    "    \"Partridge\": 6,\"Quail\": 5,\"Ostrich\": 40,\"Emu\": 30,\"Swan\": 20\n",
    "}\n",
    "\n",
    "print(\"Total birds:\", len(birds))\n",
    "print(\"First 5 birds:\", birds[:5])\n",
    "print(\"Sample record:\", list(birds_info.items())[:3])\n",
    "print(\"Total records in dict:\", len(birds_info))\n"
   ]
  },
  {
   "cell_type": "markdown",
   "id": "5248d659",
   "metadata": {},
   "source": [
    "Example 32"
   ]
  },
  {
   "cell_type": "code",
   "execution_count": 17,
   "id": "ab82f25c",
   "metadata": {},
   "outputs": [
    {
     "name": "stdout",
     "output_type": "stream",
     "text": [
      "Total flowers: 25\n",
      "First 5 flowers: ['Rose', 'Lily', 'Tulip', 'Sunflower', 'Daisy']\n",
      "Sample record: [('Rose', 'Red'), ('Lily', 'White'), ('Tulip', 'Various')]\n",
      "Total records in dict: 15\n"
     ]
    }
   ],
   "source": [
    "flowers = [\n",
    "    \"Rose\",\"Lily\",\"Tulip\",\"Sunflower\",\"Daisy\",\n",
    "    \"Orchid\",\"Marigold\",\"Jasmine\",\"Lotus\",\"Hibiscus\",\n",
    "    \"Peony\",\"Iris\",\"Chrysanthemum\",\"Daffodil\",\"Carnation\",\n",
    "    \"Poppy\",\"Lavender\",\"Begonia\",\"Geranium\",\"Zinnia\",\n",
    "    \"Dahlia\",\"Camellia\",\"Magnolia\",\"Azalea\",\"Heather\"\n",
    "]\n",
    "\n",
    "flowers_info = {\n",
    "    \"Rose\": 'Red',\"Lily\": 'White',\"Tulip\": 'Various',\"Sunflower\": 'Yellow',\"Daisy\": 'White',\n",
    "    \"Orchid\": 'Various',\"Marigold\": 'Orange',\"Jasmine\": 'White',\"Lotus\": 'Pink',\"Hibiscus\": 'Red',\n",
    "    \"Peony\": 'Pink',\"Iris\": 'Purple',\"Chrysanthemum\": 'Yellow',\"Daffodil\": 'Yellow',\"Carnation\": 'Pink'\n",
    "}\n",
    "\n",
    "print(\"Total flowers:\", len(flowers))\n",
    "print(\"First 5 flowers:\", flowers[:5])\n",
    "print(\"Sample record:\", list(flowers_info.items())[:3])\n",
    "print(\"Total records in dict:\", len(flowers_info))\n"
   ]
  },
  {
   "cell_type": "markdown",
   "id": "2c79c5ce",
   "metadata": {},
   "source": [
    "Example 33"
   ]
  },
  {
   "cell_type": "code",
   "execution_count": 18,
   "id": "3c16363c",
   "metadata": {},
   "outputs": [
    {
     "name": "stdout",
     "output_type": "stream",
     "text": [
      "Total websites: 25\n",
      "First 5 websites: ['Google', 'YouTube', 'Facebook', 'Wikipedia', 'Amazon']\n",
      "Sample record: [('Google', 'Search'), ('YouTube', 'Video'), ('Facebook', 'Social')]\n",
      "Total records in dict: 20\n"
     ]
    }
   ],
   "source": [
    "websites = [\n",
    "    \"Google\",\"YouTube\",\"Facebook\",\"Wikipedia\",\"Amazon\",\n",
    "    \"Twitter\",\"Instagram\",\"Reddit\",\"LinkedIn\",\"Netflix\",\n",
    "    \"Spotify\",\"eBay\",\"Pinterest\",\"Quora\",\"StackOverflow\",\n",
    "    \"Medium\",\"Twitch\",\"GitHub\",\"BBC\",\"CNN\",\n",
    "    \"NYTimes\",\"TheGuardian\",\"HackerNews\",\"ProductHunt\",\"Dribbble\"\n",
    "]\n",
    "\n",
    "websites_info = {\n",
    "    \"Google\": 'Search',\"YouTube\": 'Video',\"Facebook\": 'Social',\"Wikipedia\": 'Encyclopedia',\"Amazon\": 'E-commerce',\n",
    "    \"Twitter\": 'Social',\"Instagram\": 'Social',\"Reddit\": 'Community',\"LinkedIn\": 'Professional',\"Netflix\": 'Streaming',\n",
    "    \"Spotify\": 'Music',\"eBay\": 'E-commerce',\"Pinterest\": 'Discovery',\"Quora\": 'Q&A',\"StackOverflow\": 'Technical Q&A',\n",
    "    \"Medium\": 'Blogging',\"Twitch\": 'Streaming',\"GitHub\": 'Code',\"BBC\": 'News',\"CNN\": 'News'\n",
    "}\n",
    "\n",
    "print(\"Total websites:\", len(websites))\n",
    "print(\"First 5 websites:\", websites[:5])\n",
    "print(\"Sample record:\", list(websites_info.items())[:3])\n",
    "print(\"Total records in dict:\", len(websites_info))\n"
   ]
  },
  {
   "cell_type": "markdown",
   "id": "2b90538d",
   "metadata": {},
   "source": [
    "Example 34"
   ]
  },
  {
   "cell_type": "code",
   "execution_count": 19,
   "id": "58927cb8",
   "metadata": {},
   "outputs": [
    {
     "name": "stdout",
     "output_type": "stream",
     "text": [
      "Total board_games: 25\n",
      "First 5 board_games: ['Chess', 'Monopoly', 'Scrabble', 'Catan', 'Risk']\n",
      "Sample record: [('Chess', '2'), ('Monopoly', '2-8'), ('Scrabble', '2-4')]\n",
      "Total records in dict: 10\n"
     ]
    }
   ],
   "source": [
    "board_games = [\n",
    "    \"Chess\",\"Monopoly\",\"Scrabble\",\"Catan\",\"Risk\",\n",
    "    \"Clue\",\"Carcassonne\",\"Ticket to Ride\",\"Pandemic\",\"Battleship\",\n",
    "    \"Checkers\",\"Backgammon\",\"Go\",\"Connect Four\",\"Pictionary\",\n",
    "    \"Uno\",\"Dominion\",\"Agricola\",\"Azul\",\"Splendor\",\n",
    "    \"Mahjong\",\"Shogi\",\"Othello\",\"Sorry!\",\"The Game of Life\"\n",
    "]\n",
    "\n",
    "board_games_info = {\n",
    "    \"Chess\": '2',\"Monopoly\": '2-8',\"Scrabble\": '2-4',\"Catan\": '3-4',\"Risk\": '2-6',\n",
    "    \"Clue\": '3-6',\"Carcassonne\": '2-5',\"Ticket to Ride\": '2-5',\"Pandemic\": '2-4',\"Battleship\": '2'\n",
    "}\n",
    "\n",
    "print(\"Total board_games:\", len(board_games))\n",
    "print(\"First 5 board_games:\", board_games[:5])\n",
    "print(\"Sample record:\", list(board_games_info.items())[:3])\n",
    "print(\"Total records in dict:\", len(board_games_info))\n"
   ]
  },
  {
   "cell_type": "markdown",
   "id": "fd2c352a",
   "metadata": {},
   "source": [
    "Example 35"
   ]
  },
  {
   "cell_type": "code",
   "execution_count": 20,
   "id": "8f943057",
   "metadata": {},
   "outputs": [
    {
     "name": "stdout",
     "output_type": "stream",
     "text": [
      "Total space_missions: 25\n",
      "First 5 space_missions: ['Sputnik 1', 'Vostok 1', 'Apollo 11', 'Voyager 1', 'Voyager 2']\n",
      "Sample record: [('Sputnik 1', 1957), ('Vostok 1', 1961), ('Apollo 11', 1969)]\n",
      "Total records in dict: 10\n"
     ]
    }
   ],
   "source": [
    "space_missions = [\n",
    "    \"Sputnik 1\",\"Vostok 1\",\"Apollo 11\",\"Voyager 1\",\"Voyager 2\",\n",
    "    \"Hubble Space Telescope\",\"Curiosity\",\"Perseverance\",\"Chandrayaan-1\",\"Chandrayaan-2\",\n",
    "    \"Mangalyaan\",\"International Space Station\",\"Cassini\",\"Pioneer 10\",\"Apollo 13\",\n",
    "    \"Soyuz 1\",\"Skylab\",\"Vostok 6\",\"Mercury-Atlas 6\",\"Gemini 4\",\n",
    "    \"Venera 7\",\"Mariner 4\",\"New Horizons\",\"Artemis I\",\"Shenzhou 5\"\n",
    "]\n",
    "\n",
    "space_missions_info = {\n",
    "    \"Sputnik 1\": 1957,\"Vostok 1\": 1961,\"Apollo 11\": 1969,\"Voyager 1\": 1977,\"Voyager 2\": 1977,\n",
    "    \"Hubble Space Telescope\": 1990,\"Curiosity\": 2011,\"Perseverance\": 2020,\"Chandrayaan-1\": 2008,\"Chandrayaan-2\": 2019\n",
    "}\n",
    "\n",
    "print(\"Total space_missions:\", len(space_missions))\n",
    "print(\"First 5 space_missions:\", space_missions[:5])\n",
    "print(\"Sample record:\", list(space_missions_info.items())[:3])\n",
    "print(\"Total records in dict:\", len(space_missions_info))\n"
   ]
  },
  {
   "cell_type": "markdown",
   "id": "5eebf04b",
   "metadata": {},
   "source": [
    "Example 36"
   ]
  },
  {
   "cell_type": "code",
   "execution_count": 21,
   "id": "524204fd",
   "metadata": {},
   "outputs": [
    {
     "name": "stdout",
     "output_type": "stream",
     "text": [
      "Total mythological_figures: 25\n",
      "First 5 mythological_figures: ['Zeus', 'Odin', 'Ra', 'Vishnu', 'Shiva']\n",
      "Sample record: [('Zeus', 'Greek'), ('Odin', 'Norse'), ('Ra', 'Egyptian')]\n",
      "Total records in dict: 10\n"
     ]
    }
   ],
   "source": [
    "mythological_figures = [\n",
    "    \"Zeus\",\"Odin\",\"Ra\",\"Vishnu\",\"Shiva\",\n",
    "    \"Thor\",\"Anubis\",\"Athena\",\"Hercules\",\"Persephone\",\n",
    "    \"Loki\",\"Krishna\",\"Gilgamesh\",\"Ishtar\",\"Kali\",\n",
    "    \"Odin Duplicate?\",\"Hera\",\"Aphrodite\",\"Apollo\",\"Set\",\n",
    "    \"Marduk\",\"Bragi\",\"Freya\",\"Prometheus\",\"Eros\"\n",
    "]\n",
    "\n",
    "mythological_figures_info = {\n",
    "    \"Zeus\": 'Greek',\"Odin\": 'Norse',\"Ra\": 'Egyptian',\"Vishnu\": 'Hindu',\"Shiva\": 'Hindu',\n",
    "    \"Thor\": 'Norse',\"Anubis\": 'Egyptian',\"Athena\": 'Greek',\"Hercules\": 'Greek/Roman',\"Persephone\": 'Greek'\n",
    "}\n",
    "\n",
    "print(\"Total mythological_figures:\", len(mythological_figures))\n",
    "print(\"First 5 mythological_figures:\", mythological_figures[:5])\n",
    "print(\"Sample record:\", list(mythological_figures_info.items())[:3])\n",
    "print(\"Total records in dict:\", len(mythological_figures_info))\n"
   ]
  },
  {
   "cell_type": "markdown",
   "id": "71e780a2",
   "metadata": {},
   "source": [
    "Example 37"
   ]
  },
  {
   "cell_type": "code",
   "execution_count": 22,
   "id": "dfc8d1b3",
   "metadata": {},
   "outputs": [
    {
     "name": "stdout",
     "output_type": "stream",
     "text": [
      "Total airlines: 25\n",
      "First 5 airlines: ['Delta Air Lines', 'American Airlines', 'United Airlines', 'Emirates', 'Qatar Airways']\n",
      "Sample record: [('Delta Air Lines', 'USA'), ('American Airlines', 'USA'), ('United Airlines', 'USA')]\n",
      "Total records in dict: 10\n"
     ]
    }
   ],
   "source": [
    "airlines = [\n",
    "    \"Delta Air Lines\",\"American Airlines\",\"United Airlines\",\"Emirates\",\"Qatar Airways\",\n",
    "    \"British Airways\",\"Lufthansa\",\"Air France\",\"Singapore Airlines\",\"Cathay Pacific\",\n",
    "    \"Qantas\",\"Air India\",\"IndiGo\",\"Turkish Airlines\",\"KLM\",\n",
    "    \"Etihad\",\"Japan Airlines\",\"ANA\",\"EasyJet\",\"Ryanair\",\n",
    "    \"Swiss International Air Lines\",\"Aeroflot\",\"AeroMexico\",\"LATAM\",\"Gol\"\n",
    "]\n",
    "\n",
    "airlines_info = {\n",
    "    \"Delta Air Lines\": 'USA',\"American Airlines\": 'USA',\"United Airlines\": 'USA',\"Emirates\": 'UAE',\"Qatar Airways\": 'Qatar',\n",
    "    \"British Airways\": 'UK',\"Lufthansa\": 'Germany',\"Air France\": 'France',\"Singapore Airlines\": 'Singapore',\"Cathay Pacific\": 'Hong Kong'\n",
    "}\n",
    "\n",
    "print(\"Total airlines:\", len(airlines))\n",
    "print(\"First 5 airlines:\", airlines[:5])\n",
    "print(\"Sample record:\", list(airlines_info.items())[:3])\n",
    "print(\"Total records in dict:\", len(airlines_info))\n"
   ]
  },
  {
   "cell_type": "markdown",
   "id": "52a7cfae",
   "metadata": {},
   "source": [
    "Example 38"
   ]
  },
  {
   "cell_type": "code",
   "execution_count": 23,
   "id": "ecb28b27",
   "metadata": {},
   "outputs": [
    {
     "name": "stdout",
     "output_type": "stream",
     "text": [
      "Total poets: 25\n",
      "First 5 poets: ['William Shakespeare', 'Rabindranath Tagore', 'Pablo Neruda', 'Rumi', 'Emily Dickinson']\n",
      "Sample record: [('William Shakespeare', 'English'), ('Rabindranath Tagore', 'Bengali'), ('Pablo Neruda', 'Spanish')]\n",
      "Total records in dict: 10\n"
     ]
    }
   ],
   "source": [
    "poets = [\n",
    "    \"William Shakespeare\",\"Rabindranath Tagore\",\"Pablo Neruda\",\"Rumi\",\"Emily Dickinson\",\n",
    "    \"Walt Whitman\",\"Langston Hughes\",\"Mirza Ghalib\",\"William Wordsworth\",\"John Keats\",\n",
    "    \"T.S. Eliot\",\"Sylvia Plath\",\"Maya Angelou\",\"Robert Frost\",\"Dante Alighieri\",\n",
    "    \"Hafez\",\"Li Bai\",\"Basho\",\"Kabir\",\"Ghalib Duplicate?\",\n",
    "    \"Anna Akhmatova\",\"Octavio Paz\",\"Seamus Heaney\",\"Carol Ann Duffy\",\"Philip Larkin\"\n",
    "]\n",
    "\n",
    "poets_info = {\n",
    "    \"William Shakespeare\": 'English',\"Rabindranath Tagore\": 'Bengali',\"Pablo Neruda\": 'Spanish',\"Rumi\": 'Persian',\"Emily Dickinson\": 'English',\n",
    "    \"Walt Whitman\": 'English',\"Langston Hughes\": 'English',\"Mirza Ghalib\": 'Urdu',\"William Wordsworth\": 'English',\"John Keats\": 'English'\n",
    "}\n",
    "\n",
    "print(\"Total poets:\", len(poets))\n",
    "print(\"First 5 poets:\", poets[:5])\n",
    "print(\"Sample record:\", list(poets_info.items())[:3])\n",
    "print(\"Total records in dict:\", len(poets_info))\n"
   ]
  },
  {
   "cell_type": "markdown",
   "id": "745ad8ee",
   "metadata": {},
   "source": [
    "Example 39"
   ]
  },
  {
   "cell_type": "code",
   "execution_count": 24,
   "id": "8fff3231",
   "metadata": {},
   "outputs": [
    {
     "name": "stdout",
     "output_type": "stream",
     "text": [
      "Total trees: 25\n",
      "First 5 trees: ['Oak', 'Pine', 'Maple', 'Baobab', 'Banyan']\n",
      "Sample record: [('Oak', 20), ('Pine', 30), ('Maple', 10)]\n",
      "Total records in dict: 15\n"
     ]
    }
   ],
   "source": [
    "trees = [\n",
    "    \"Oak\",\"Pine\",\"Maple\",\"Baobab\",\"Banyan\",\n",
    "    \"Cedar\",\"Sequoia\",\"Redwood\",\"Birch\",\"Elm\",\n",
    "    \"Willow\",\"Cypress\",\"Spruce\",\"Fir\",\"Teak\",\n",
    "    \"Mahogany\",\"Eucalyptus\",\"Palm\",\"Mango Tree\",\"Apple Tree\",\n",
    "    \"Cherry Tree\",\"Olive Tree\",\"Walnut\",\"Chestnut\",\"Acacia\"\n",
    "]\n",
    "\n",
    "trees_info = {\n",
    "    \"Oak\": 20,\"Pine\": 30,\"Maple\": 10,\"Baobab\": 25,\"Banyan\": 40,\n",
    "    \"Cedar\": 30,\"Sequoia\": 85,\"Redwood\": 90,\"Birch\": 15,\"Elm\": 25,\n",
    "    \"Willow\": 20,\"Cypress\": 30,\"Spruce\": 35,\"Fir\": 40,\"Teak\": 30\n",
    "}\n",
    "\n",
    "print(\"Total trees:\", len(trees))\n",
    "print(\"First 5 trees:\", trees[:5])\n",
    "print(\"Sample record:\", list(trees_info.items())[:3])\n",
    "print(\"Total records in dict:\", len(trees_info))\n"
   ]
  },
  {
   "cell_type": "markdown",
   "id": "94a06789",
   "metadata": {},
   "source": [
    "Example 40"
   ]
  },
  {
   "cell_type": "code",
   "execution_count": 25,
   "id": "5732a4fe",
   "metadata": {},
   "outputs": [
    {
     "name": "stdout",
     "output_type": "stream",
     "text": [
      "Total gemstones: 25\n",
      "First 5 gemstones: ['Diamond', 'Ruby', 'Sapphire', 'Emerald', 'Amethyst']\n",
      "Sample record: [('Diamond', 'Colorless'), ('Ruby', 'Red'), ('Sapphire', 'Blue')]\n",
      "Total records in dict: 10\n"
     ]
    }
   ],
   "source": [
    "gemstones = [\n",
    "    \"Diamond\",\"Ruby\",\"Sapphire\",\"Emerald\",\"Amethyst\",\n",
    "    \"Topaz\",\"Opal\",\"Pearl\",\"Garnet\",\"Peridot\",\n",
    "    \"Aquamarine\",\"Citrine\",\"Turquoise\",\"Onyx\",\"Jade\",\n",
    "    \"Spinel\",\"Zircon\",\"Tanzanite\",\"Alexandrite\",\"Moonstone\",\n",
    "    \"Lapis Lazuli\",\"Amber\",\"Coral\",\"Beryl\",\"Quartz\"\n",
    "]\n",
    "\n",
    "gemstones_info = {\n",
    "    \"Diamond\": 'Colorless',\"Ruby\": 'Red',\"Sapphire\": 'Blue',\"Emerald\": 'Green',\"Amethyst\": 'Purple',\n",
    "    \"Topaz\": 'Yellow/Blue',\"Opal\": 'Multi',\"Pearl\": 'White',\"Garnet\": 'Red',\"Peridot\": 'Green'\n",
    "}\n",
    "\n",
    "print(\"Total gemstones:\", len(gemstones))\n",
    "print(\"First 5 gemstones:\", gemstones[:5])\n",
    "print(\"Sample record:\", list(gemstones_info.items())[:3])\n",
    "print(\"Total records in dict:\", len(gemstones_info))\n"
   ]
  },
  {
   "cell_type": "markdown",
   "id": "dacf450c",
   "metadata": {},
   "source": [
    "Example 41"
   ]
  },
  {
   "cell_type": "code",
   "execution_count": 26,
   "id": "4f8ea2c2",
   "metadata": {},
   "outputs": [
    {
     "name": "stdout",
     "output_type": "stream",
     "text": [
      "Total operating_systems: 25\n",
      "First 5 operating_systems: ['Windows', 'macOS', 'Linux', 'Android', 'iOS']\n",
      "Sample record: [('Windows', 1985), ('macOS', 2001), ('Linux', 1991)]\n",
      "Total records in dict: 10\n"
     ]
    }
   ],
   "source": [
    "operating_systems = [\n",
    "    \"Windows\",\"macOS\",\"Linux\",\"Android\",\"iOS\",\n",
    "    \"Ubuntu\",\"Fedora\",\"Red Hat Enterprise Linux\",\"Debian\",\"Solaris\",\n",
    "    \"FreeBSD\",\"ChromeOS\",\"MS-DOS\",\"BeOS\",\"AmigaOS\",\n",
    "    \"NetBSD\",\"OpenBSD\",\"AIX\",\"HP-UX\",\"Syllable\",\n",
    "    \"Zorin OS\",\"Manjaro\",\"Kali Linux\",\"Opera OS\",\"Tizen\"\n",
    "]\n",
    "\n",
    "operating_systems_info = {\n",
    "    \"Windows\": 1985,\"macOS\": 2001,\"Linux\": 1991,\"Android\": 2008,\"iOS\": 2007,\n",
    "    \"Ubuntu\": 2004,\"Fedora\": 2003,\"Red Hat Enterprise Linux\": 2000,\"Debian\": 1993,\"Solaris\": 1992\n",
    "}\n",
    "\n",
    "print(\"Total operating_systems:\", len(operating_systems))\n",
    "print(\"First 5 operating_systems:\", operating_systems[:5])\n",
    "print(\"Sample record:\", list(operating_systems_info.items())[:3])\n",
    "print(\"Total records in dict:\", len(operating_systems_info))\n"
   ]
  },
  {
   "cell_type": "markdown",
   "id": "47174e05",
   "metadata": {},
   "source": [
    "Example 42"
   ]
  },
  {
   "cell_type": "code",
   "execution_count": 27,
   "id": "468ddf78",
   "metadata": {},
   "outputs": [
    {
     "name": "stdout",
     "output_type": "stream",
     "text": [
      "Total world_languages: 25\n",
      "First 5 world_languages: ['English', 'Mandarin Chinese', 'Spanish', 'Hindi', 'Arabic']\n",
      "Sample record: [('English', 379), ('Mandarin Chinese', 918), ('Spanish', 460)]\n",
      "Total records in dict: 15\n"
     ]
    }
   ],
   "source": [
    "world_languages = [\n",
    "    \"English\",\"Mandarin Chinese\",\"Spanish\",\"Hindi\",\"Arabic\",\n",
    "    \"Bengali\",\"Portuguese\",\"Russian\",\"Japanese\",\"Punjabi\",\n",
    "    \"German\",\"Javanese\",\"Korean\",\"Vietnamese\",\"Telugu\",\n",
    "    \"Marathi\",\"Tamil\",\"Urdu\",\"Turkish\",\"Italian\",\n",
    "    \"Gujarati\",\"Persian\",\"Polish\",\"Ukrainian\",\"Dutch\"\n",
    "]\n",
    "\n",
    "world_languages_info = {\n",
    "    \"English\": 379,\"Mandarin Chinese\": 918,\"Spanish\": 460,\"Hindi\": 341,\"Arabic\": 310,\n",
    "    \"Bengali\": 228,\"Portuguese\": 221,\"Russian\": 154,\"Japanese\": 128,\"Punjabi\": 92,\n",
    "    \"German\": 76,\"Javanese\": 82,\"Korean\": 77,\"Vietnamese\": 76,\"Telugu\": 82\n",
    "}\n",
    "\n",
    "print(\"Total world_languages:\", len(world_languages))\n",
    "print(\"First 5 world_languages:\", world_languages[:5])\n",
    "print(\"Sample record:\", list(world_languages_info.items())[:3])\n",
    "print(\"Total records in dict:\", len(world_languages_info))\n"
   ]
  },
  {
   "cell_type": "markdown",
   "id": "d8013965",
   "metadata": {},
   "source": [
    "Example 43"
   ]
  },
  {
   "cell_type": "code",
   "execution_count": 28,
   "id": "12054d9e",
   "metadata": {},
   "outputs": [
    {
     "name": "stdout",
     "output_type": "stream",
     "text": [
      "Total famous_scientists: 25\n",
      "First 5 famous_scientists: ['Isaac Newton', 'Albert Einstein', 'Marie Curie', 'Galileo Galilei', 'Charles Darwin']\n",
      "Sample record: [('Isaac Newton', 'Physics'), ('Albert Einstein', 'Physics'), ('Marie Curie', 'Chemistry/Physics')]\n",
      "Total records in dict: 10\n"
     ]
    }
   ],
   "source": [
    "famous_scientists = [\n",
    "    \"Isaac Newton\",\"Albert Einstein\",\"Marie Curie\",\"Galileo Galilei\",\"Charles Darwin\",\n",
    "    \"Nikola Tesla\",\"Stephen Hawking\",\"Louis Pasteur\",\"Max Planck\",\"Niels Bohr\",\n",
    "    \"Richard Feynman\",\"Johannes Kepler\",\"Michael Faraday\",\"Edwin Hubble\",\"Antoine Lavoisier\",\n",
    "    \"Gregor Mendel\",\"Robert Boyle\",\"James Clerk Maxwell\",\"Werner Heisenberg\",\"Ernest Rutherford\",\n",
    "    \"Anders Celsius\",\"Benoît Mandelbrot\",\"Ada Lovelace\",\"Alan Turing\",\"Rosalind Franklin\"\n",
    "]\n",
    "\n",
    "famous_scientists_info = {\n",
    "    \"Isaac Newton\": 'Physics',\"Albert Einstein\": 'Physics',\"Marie Curie\": 'Chemistry/Physics',\"Galileo Galilei\": 'Astronomy',\"Charles Darwin\": 'Biology',\n",
    "    \"Nikola Tesla\": 'Electrical Engineering',\"Stephen Hawking\": 'Physics',\"Louis Pasteur\": 'Microbiology',\"Max Planck\": 'Physics',\"Niels Bohr\": 'Physics'\n",
    "}\n",
    "\n",
    "print(\"Total famous_scientists:\", len(famous_scientists))\n",
    "print(\"First 5 famous_scientists:\", famous_scientists[:5])\n",
    "print(\"Sample record:\", list(famous_scientists_info.items())[:3])\n",
    "print(\"Total records in dict:\", len(famous_scientists_info))\n"
   ]
  },
  {
   "cell_type": "markdown",
   "id": "be1bd58a",
   "metadata": {},
   "source": [
    "Example 44"
   ]
  },
  {
   "cell_type": "code",
   "execution_count": 29,
   "id": "ec744e13",
   "metadata": {},
   "outputs": [
    {
     "name": "stdout",
     "output_type": "stream",
     "text": [
      "Total programming_frameworks: 25\n",
      "First 5 programming_frameworks: ['Django', 'Flask', 'React', 'Angular', 'Vue']\n",
      "Sample record: [('Django', 'Python'), ('Flask', 'Python'), ('React', 'JavaScript')]\n",
      "Total records in dict: 10\n"
     ]
    }
   ],
   "source": [
    "programming_frameworks = [\n",
    "    \"Django\",\"Flask\",\"React\",\"Angular\",\"Vue\",\n",
    "    \"Spring\",\"Laravel\",\"Ruby on Rails\",\"Express\",\"ASP.NET\",\n",
    "    \"TensorFlow\",\"PyTorch\",\"Keras\",\"Bootstrap\",\"jQuery\",\n",
    "    \"Symfony\",\"CodeIgniter\",\"Svelte\",\"Next.js\",\"Nuxt.js\",\n",
    "    \"Gatsby\",\"Meteor\",\"Ember.js\",\"Backbone.js\",\"Play Framework\"\n",
    "]\n",
    "\n",
    "programming_frameworks_info = {\n",
    "    \"Django\": 'Python',\"Flask\": 'Python',\"React\": 'JavaScript',\"Angular\": 'TypeScript',\"Vue\": 'JavaScript',\n",
    "    \"Spring\": 'Java',\"Laravel\": 'PHP',\"Ruby on Rails\": 'Ruby',\"Express\": 'JavaScript',\"ASP.NET\": 'C#'\n",
    "}\n",
    "\n",
    "print(\"Total programming_frameworks:\", len(programming_frameworks))\n",
    "print(\"First 5 programming_frameworks:\", programming_frameworks[:5])\n",
    "print(\"Sample record:\", list(programming_frameworks_info.items())[:3])\n",
    "print(\"Total records in dict:\", len(programming_frameworks_info))\n"
   ]
  },
  {
   "cell_type": "markdown",
   "id": "498e102e",
   "metadata": {},
   "source": [
    "Example 45"
   ]
  },
  {
   "cell_type": "code",
   "execution_count": 30,
   "id": "d00203f7",
   "metadata": {},
   "outputs": [
    {
     "name": "stdout",
     "output_type": "stream",
     "text": [
      "Total historical_events: 25\n",
      "First 5 historical_events: ['World War I', 'World War II', 'French Revolution', 'American Revolution', 'Indian Independence']\n",
      "Sample record: [('World War I', 1914), ('World War II', 1939), ('French Revolution', 1789)]\n",
      "Total records in dict: 10\n"
     ]
    }
   ],
   "source": [
    "historical_events = [\n",
    "    \"World War I\",\"World War II\",\"French Revolution\",\"American Revolution\",\"Indian Independence\",\n",
    "    \"Industrial Revolution\",\"Moon Landing\",\"Fall of Berlin Wall\",\"Renaissance\",\"Reformation\",\n",
    "    \"Russian Revolution\",\"Cuban Missile Crisis\",\"Black Death\",\"Cold War\",\"9/11 Attacks\",\n",
    "    \"Spanish Armada\",\"Magna Carta\",\"Great Depression\",\"Partition of India\",\"Discovery of America\",\n",
    "    \"Treaty of Versailles\",\"Formation of UN\",\"Berlin Airlift\",\"Suez Crisis\",\"Chinese Revolution 1949\"\n",
    "]\n",
    "\n",
    "historical_events_info = {\n",
    "    \"World War I\": 1914,\"World War II\": 1939,\"French Revolution\": 1789,\"American Revolution\": 1775,\"Indian Independence\": 1947,\n",
    "    \"Industrial Revolution\": 1760,\"Moon Landing\": 1969,\"Fall of Berlin Wall\": 1989,\"Renaissance\": '14th-17th century',\"Reformation\": 1517\n",
    "}\n",
    "\n",
    "print(\"Total historical_events:\", len(historical_events))\n",
    "print(\"First 5 historical_events:\", historical_events[:5])\n",
    "print(\"Sample record:\", list(historical_events_info.items())[:3])\n",
    "print(\"Total records in dict:\", len(historical_events_info))\n"
   ]
  },
  {
   "cell_type": "markdown",
   "id": "4c1bc66e",
   "metadata": {},
   "source": [
    "Example 46"
   ]
  },
  {
   "cell_type": "code",
   "execution_count": 31,
   "id": "25e02959",
   "metadata": {},
   "outputs": [
    {
     "name": "stdout",
     "output_type": "stream",
     "text": [
      "Total chess_openings: 25\n",
      "First 5 chess_openings: ['Sicilian Defense', 'Ruy Lopez', \"Queen's Gambit\", \"King's Indian Defense\", 'French Defense']\n",
      "Sample record: [('Sicilian Defense', '1.e4 c5'), ('Ruy Lopez', '1.e4 e5 2.Nf3 Nc6 3.Bb5'), (\"Queen's Gambit\", '1.d4 d5 2.c4')]\n",
      "Total records in dict: 5\n"
     ]
    }
   ],
   "source": [
    "chess_openings = [\n",
    "    \"Sicilian Defense\",\"Ruy Lopez\",\"Queen's Gambit\",\"King's Indian Defense\",\"French Defense\",\n",
    "    \"Caro-Kann\",\"Nimzo-Indian Defense\",\"English Opening\",\"Scandinavian Defense\",\"Dutch Defense\",\n",
    "    \"Pirc Defense\",\"Alekhine's Defense\",\"Grunfeld Defense\",\"Catalan Opening\",\"Slav Defense\",\n",
    "    \"Benoni Defense\",\"Modern Defense\",\"Bird's Opening\",\"London System\",\"Four Knights Game\",\n",
    "    \"Giuoco Piano\",\"Petroff Defense\",\"Vienna Game\",\"King's Gambit\",\"Evans Gambit\"\n",
    "]\n",
    "\n",
    "chess_openings_info = {\n",
    "    \"Sicilian Defense\": '1.e4 c5',\"Ruy Lopez\": '1.e4 e5 2.Nf3 Nc6 3.Bb5',\"Queen's Gambit\": '1.d4 d5 2.c4',\"King's Indian Defense\": '1.d4 Nf6 2.c4 g6',\"French Defense\": '1.e4 e6'\n",
    "}\n",
    "\n",
    "print(\"Total chess_openings:\", len(chess_openings))\n",
    "print(\"First 5 chess_openings:\", chess_openings[:5])\n",
    "print(\"Sample record:\", list(chess_openings_info.items())[:3])\n",
    "print(\"Total records in dict:\", len(chess_openings_info))\n"
   ]
  },
  {
   "cell_type": "markdown",
   "id": "3590ecb7",
   "metadata": {},
   "source": [
    "Example 47"
   ]
  },
  {
   "cell_type": "code",
   "execution_count": 32,
   "id": "ebdbdee1",
   "metadata": {},
   "outputs": [
    {
     "name": "stdout",
     "output_type": "stream",
     "text": [
      "Total film_directors: 25\n",
      "First 5 film_directors: ['Steven Spielberg', 'Christopher Nolan', 'Martin Scorsese', 'Stanley Kubrick', 'Quentin Tarantino']\n",
      "Sample record: [('Steven Spielberg', 'Jaws/ET'), ('Christopher Nolan', 'Inception'), ('Martin Scorsese', 'Goodfellas')]\n",
      "Total records in dict: 5\n"
     ]
    }
   ],
   "source": [
    "film_directors = [\n",
    "    \"Steven Spielberg\",\"Christopher Nolan\",\"Martin Scorsese\",\"Stanley Kubrick\",\"Quentin Tarantino\",\n",
    "    \"Alfred Hitchcock\",\"Francis Ford Coppola\",\"James Cameron\",\"Wes Anderson\",\"Ridley Scott\",\n",
    "    \"Peter Jackson\",\"Ang Lee\",\"Bong Joon-ho\",\"Satyajit Ray\",\"Yasujiro Ozu\",\n",
    "    \"Akira Kurosawa\",\"Ingmar Bergman\",\"David Fincher\",\"Clint Eastwood\",\"Tim Burton\",\n",
    "    \"Roman Polanski\",\"Guy Ritchie\",\"Greta Gerwig\",\"Nora Ephron\",\"Taika Waititi\"\n",
    "]\n",
    "\n",
    "film_directors_info = {\n",
    "    \"Steven Spielberg\": 'Jaws/ET',\"Christopher Nolan\": 'Inception',\"Martin Scorsese\": 'Goodfellas',\"Stanley Kubrick\": '2001: A Space Odyssey',\"Quentin Tarantino\": 'Pulp Fiction'\n",
    "}\n",
    "\n",
    "print(\"Total film_directors:\", len(film_directors))\n",
    "print(\"First 5 film_directors:\", film_directors[:5])\n",
    "print(\"Sample record:\", list(film_directors_info.items())[:3])\n",
    "print(\"Total records in dict:\", len(film_directors_info))\n"
   ]
  },
  {
   "cell_type": "markdown",
   "id": "d3379bc3",
   "metadata": {},
   "source": [
    "Example 48"
   ]
  },
  {
   "cell_type": "code",
   "execution_count": 33,
   "id": "76e02f2e",
   "metadata": {},
   "outputs": [
    {
     "name": "stdout",
     "output_type": "stream",
     "text": [
      "Total olympic_sports: 25\n",
      "First 5 olympic_sports: ['Athletics', 'Swimming', 'Gymnastics', 'Boxing', 'Wrestling']\n",
      "Sample record: [('Athletics', 'Various'), ('Swimming', 'Various'), ('Gymnastics', 'Various')]\n",
      "Total records in dict: 10\n"
     ]
    }
   ],
   "source": [
    "olympic_sports = [\n",
    "    \"Athletics\",\"Swimming\",\"Gymnastics\",\"Boxing\",\"Wrestling\",\n",
    "    \"Weightlifting\",\"Football\",\"Basketball\",\"Volleyball\",\"Handball\",\n",
    "    \"Hockey\",\"Table Tennis\",\"Badminton\",\"Tennis\",\"Shooting\",\n",
    "    \"Archery\",\"Cycling\",\"Canoeing\",\"Rowing\",\"Rugby Sevens\",\n",
    "    \"Sailing\",\"Skateboarding\",\"Surfing\",\"Sport Climbing\",\"Golf\"\n",
    "]\n",
    "\n",
    "olympic_sports_info = {\n",
    "    \"Athletics\": 'Various',\"Swimming\": 'Various',\"Gymnastics\": 'Various',\"Boxing\": 'Various',\"Wrestling\": 'Various',\n",
    "    \"Weightlifting\": 'Various',\"Football\": '11',\"Basketball\": '5',\"Volleyball\": '6',\"Handball\": '7'\n",
    "}\n",
    "\n",
    "print(\"Total olympic_sports:\", len(olympic_sports))\n",
    "print(\"First 5 olympic_sports:\", olympic_sports[:5])\n",
    "print(\"Sample record:\", list(olympic_sports_info.items())[:3])\n",
    "print(\"Total records in dict:\", len(olympic_sports_info))\n"
   ]
  },
  {
   "cell_type": "markdown",
   "id": "a9902e18",
   "metadata": {},
   "source": [
    "Example 49"
   ]
  },
  {
   "cell_type": "code",
   "execution_count": 34,
   "id": "58132014",
   "metadata": {},
   "outputs": [
    {
     "name": "stdout",
     "output_type": "stream",
     "text": [
      "Total camera_brands: 25\n",
      "First 5 camera_brands: ['Canon', 'Nikon', 'Sony', 'Fujifilm', 'Olympus']\n",
      "Sample record: [('Canon', 'Japan'), ('Nikon', 'Japan'), ('Sony', 'Japan')]\n",
      "Total records in dict: 10\n"
     ]
    }
   ],
   "source": [
    "camera_brands = [\n",
    "    \"Canon\",\"Nikon\",\"Sony\",\"Fujifilm\",\"Olympus\",\n",
    "    \"Panasonic\",\"Leica\",\"Pentax\",\"Hasselblad\",\"Ricoh\",\n",
    "    \"GoPro\",\"Blackmagic\",\"Samsung\",\"Kodak\",\"Yashica\",\n",
    "    \"Polaroid\",\"Sigma\",\"Tamron\",\"Carl Zeiss\",\"Mamiya\",\n",
    "    \"Minolta\",\"Bronica\",\"Contax\",\"Argus\",\"Zenit\"\n",
    "]\n",
    "\n",
    "camera_brands_info = {\n",
    "    \"Canon\": 'Japan',\"Nikon\": 'Japan',\"Sony\": 'Japan',\"Fujifilm\": 'Japan',\"Olympus\": 'Japan',\n",
    "    \"Panasonic\": 'Japan',\"Leica\": 'Germany',\"Pentax\": 'Japan',\"Hasselblad\": 'Sweden',\"Ricoh\": 'Japan'\n",
    "}\n",
    "\n",
    "print(\"Total camera_brands:\", len(camera_brands))\n",
    "print(\"First 5 camera_brands:\", camera_brands[:5])\n",
    "print(\"Sample record:\", list(camera_brands_info.items())[:3])\n",
    "print(\"Total records in dict:\", len(camera_brands_info))\n"
   ]
  },
  {
   "cell_type": "markdown",
   "id": "1b8c091a",
   "metadata": {},
   "source": [
    "Example 50"
   ]
  },
  {
   "cell_type": "code",
   "execution_count": 35,
   "id": "08a7bef4",
   "metadata": {},
   "outputs": [
    {
     "name": "stdout",
     "output_type": "stream",
     "text": [
      "Total programming_tools: 25\n",
      "First 5 programming_tools: ['Visual Studio Code', 'PyCharm', 'Eclipse', 'IntelliJ IDEA', 'Sublime Text']\n",
      "Sample record: [('Visual Studio Code', 'Editor'), ('PyCharm', 'IDE'), ('Eclipse', 'IDE')]\n",
      "Total records in dict: 10\n"
     ]
    }
   ],
   "source": [
    "programming_tools = [\n",
    "    \"Visual Studio Code\",\"PyCharm\",\"Eclipse\",\"IntelliJ IDEA\",\"Sublime Text\",\n",
    "    \"Atom\",\"Notepad++\",\"Xcode\",\"Android Studio\",\"NetBeans\",\n",
    "    \"CLion\",\"WebStorm\",\"RStudio\",\"MATLAB\",\"Spyder\",\n",
    "    \"Emacs\",\"Vim\",\"Code::Blocks\",\"Brackets\",\"Anaconda\",\n",
    "    \"Jupyter Notebook\",\"BlueJ\",\"Komodo\",\"PhpStorm\",\"MonoDevelop\"\n",
    "]\n",
    "\n",
    "programming_tools_info = {\n",
    "    \"Visual Studio Code\": 'Editor',\"PyCharm\": 'IDE',\"Eclipse\": 'IDE',\"IntelliJ IDEA\": 'IDE',\"Sublime Text\": 'Editor',\n",
    "    \"Atom\": 'Editor',\"Notepad++\": 'Editor',\"Xcode\": 'IDE',\"Android Studio\": 'IDE',\"NetBeans\": 'IDE'\n",
    "}\n",
    "\n",
    "print(\"Total programming_tools:\", len(programming_tools))\n",
    "print(\"First 5 programming_tools:\", programming_tools[:5])\n",
    "print(\"Sample record:\", list(programming_tools_info.items())[:3])\n",
    "print(\"Total records in dict:\", len(programming_tools_info))\n"
   ]
  }
 ],
 "metadata": {
  "kernelspec": {
   "display_name": "Python 3",
   "language": "python",
   "name": "python3"
  },
  "language_info": {
   "codemirror_mode": {
    "name": "ipython",
    "version": 3
   },
   "file_extension": ".py",
   "mimetype": "text/x-python",
   "name": "python",
   "nbconvert_exporter": "python",
   "pygments_lexer": "ipython3",
   "version": "3.13.5"
  }
 },
 "nbformat": 4,
 "nbformat_minor": 5
}
