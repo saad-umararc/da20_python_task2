{
 "cells": [
  {
   "cell_type": "markdown",
   "id": "5780f7df",
   "metadata": {},
   "source": [
    "Example 1\n"
   ]
  },
  {
   "cell_type": "code",
   "execution_count": 10,
   "id": "f82a0de1",
   "metadata": {},
   "outputs": [
    {
     "name": "stdout",
     "output_type": "stream",
     "text": [
      "list1 = [1, 2, 3, 4, 5, 6, 7, 8, 9, 10, 11, 12, 13, 14, 15, 16, 17, 18, 19, 20, 21, 22, 23, 24, 25]\n",
      "dict1 = {'a': 1, 'b': 2, 'c': 3, 'd': 4, 'e': 5, 'f': 6, 'g': 7, 'h': 8, 'i': 9, 'j': 10, 'k': 11, 'l': 12, 'm': 13, 'n': 14, 'o': 15, 'p': 16, 'q': 17, 'r': 18, 's': 19, 't': 20}\n",
      "e = 5\n",
      "index3 = 4\n"
     ]
    }
   ],
   "source": [
    "list1 = [1,2,3,4,5,6,7,8,9,10,11,12,13,14,15,16,17,18,19,20,21,22,23,24,25]\n",
    "dict1 = {\"a\" : 1, \"b\" : 2, \"c\" : 3, \"d\" : 4, \"e\" : 5, \"f\" : 6, \"g\" : 7, \"h\" : 8, \"i\" : 9, \"j\" : 10,\n",
    "         \"k\" : 11, \"l\" : 12, \"m\" : 13, \"n\" : 14, \"o\" : 15, \"p\" : 16, \"q\" : 17, \"r\" : 18, \"s\" : 19, \"t\" : 20}\n",
    "\n",
    "print (f\"list1 = {list1}\")\n",
    "print (f\"dict1 = {dict1}\")\n",
    "print (f\"e = {dict1[\"e\"]}\")\n",
    "print (f\"index3 = {list1[3]}\")"
   ]
  },
  {
   "cell_type": "markdown",
   "id": "2294af52",
   "metadata": {},
   "source": [
    "Example 2"
   ]
  },
  {
   "cell_type": "code",
   "execution_count": 30,
   "id": "55fd1aaf",
   "metadata": {},
   "outputs": [
    {
     "name": "stdout",
     "output_type": "stream",
     "text": [
      "length of fruits = 25\n",
      "check mango is listed = True\n",
      "Kiwi = 150\n",
      "Watermelon = 30\n",
      "Cherry = 300, Pineapple = 70, Dates = 220\n"
     ]
    }
   ],
   "source": [
    "fruits = [\"Apple\", \"Banana\", \"Orange\", \"Mango\", \"Grapes\",\n",
    "          \"Pineapple\", \"Papaya\", \"Guava\", \"Watermelon\", \"Pear\",\n",
    "          \"Kiwi\", \"Strawberry\", \"Blueberry\", \"Cherry\", \"Peach\",\n",
    "          \"Plum\", \"Lemon\", \"Coconut\", \"Pomegranate\", \"Dragonfruit\",\n",
    "          \"Lychee\", \"Apricot\", \"Blackberry\", \"Fig\", \"Dates\"]\n",
    "\n",
    "fruit_prices = {\n",
    "    \"Apple\": 100, \"Banana\": 40, \"Orange\": 60, \"Mango\": 120, \"Grapes\": 80,\n",
    "    \"Pineapple\": 70, \"Papaya\": 50, \"Guava\": 45, \"Watermelon\": 30, \"Pear\": 90,\n",
    "    \"Kiwi\": 150, \"Strawberry\": 200, \"Blueberry\": 250, \"Cherry\": 300, \"Peach\": 120,\n",
    "    \"Plum\": 110, \"Lemon\": 20, \"Coconut\": 60, \"Pomegranate\": 180, \"Dates\": 220\n",
    "}\n",
    "\n",
    "print (f\"length of fruits = {len(fruits)}\")\n",
    "print (f\"check mango is listed = {\"Mango\" in fruits}\")\n",
    "print (f\"Kiwi = {fruit_prices[\"Kiwi\"]}\"), print (f\"Watermelon = {fruit_prices[\"Watermelon\"]}\")\n",
    "print (f\"Cherry = {fruit_prices[\"Cherry\"]}\"\",\", f\"Pineapple = {fruit_prices[\"Pineapple\"]}\"\",\", f\"Dates = {fruit_prices[\"Dates\"]}\")"
   ]
  },
  {
   "cell_type": "markdown",
   "id": "45346330",
   "metadata": {},
   "source": [
    "Example 3"
   ]
  },
  {
   "cell_type": "code",
   "execution_count": 48,
   "id": "4da8d24f",
   "metadata": {},
   "outputs": [
    {
     "name": "stdout",
     "output_type": "stream",
     "text": [
      "saad skilss : ['Excel', 'SQL', 'PowerBi', 'Python']\n",
      "is company hiring? : True\n",
      "UK : London\n",
      "Department : ['IT', 'HR', 'Sales', 'Finance']\n"
     ]
    }
   ],
   "source": [
    "Employee = [\n",
    "    {\"id\" : 1, \"name\" : \"saad\", \"active\" : True, \"skills\" : [\"Excel\",\"SQL\",\"PowerBi\",\"Python\"]},\n",
    "    {\"id\" : 2, \"name\" : \"sagar\", \"active\" : True, \"skills\" : [\"Excel\",\"SQL\",\"PowerBi\",\"Python\",\"java\",\"c++\"]},\n",
    "    {\"id\" : 3, \"name\" : \"aasim\", \"active\" : False, \"skills\" : [\"Excel\",\"SQL\",\"html\"]},\n",
    "    {\"id\" : 4, \"name\" : \"taksh\", \"active\" : False, \"skills\" : [\"html\",\"css\",\"JavaScript\"]}\n",
    "]\n",
    "\n",
    "company_info = {\n",
    "    \"name\" : \"TechSoft\",\n",
    "    \"founded\" : 2010,\n",
    "    \"is_hiring\" : True,\n",
    "    \"departments\" : [\"IT\",\"HR\",\"Sales\",\"Finance\"],\n",
    "    \"locations\" : {\"India\" : \"Mumbai\", \"US\" : \"New York\", \"UK\" : \"London\"}\n",
    "}\n",
    "\n",
    "print (\"saad skilss :\", Employee[0][\"skills\"])\n",
    "print (\"is company hiring? :\", company_info[\"is_hiring\"] )\n",
    "print (\"UK :\", company_info[\"locations\"][\"UK\"] )\n",
    "print (\"Department :\", company_info[\"departments\"])\n",
    "\n"
   ]
  },
  {
   "cell_type": "markdown",
   "id": "7f213f47",
   "metadata": {},
   "source": [
    "Example 4"
   ]
  },
  {
   "cell_type": "code",
   "execution_count": 64,
   "id": "810a5897",
   "metadata": {},
   "outputs": [
    {
     "name": "stdout",
     "output_type": "stream",
     "text": [
      "TV price is ₹ 55000\n",
      "{'id': 5, 'name': 'monitor', 'price': 20000, 'available': False}\n",
      "rating from JusDial : 4.2\n",
      "check store is online : True\n"
     ]
    }
   ],
   "source": [
    "products = [\n",
    "    {\"id\" : 1, \"name\" : \"laptop\", \"price\" : 55000, \"available\" : True},\n",
    "    {\"id\" : 2, \"name\" : \"mobile\", \"price\" : 30000, \"available\" : True},\n",
    "    {\"id\" : 3, \"name\" : \"tablet\", \"price\" : 44000, \"available\" : False},\n",
    "    {\"id\" : 4, \"name\" : \"TV\", \"price\" : 55000, \"available\" : True},\n",
    "    {\"id\" : 5, \"name\" : \"monitor\", \"price\" : 20000, \"available\" : False}\n",
    "]\n",
    "\n",
    "store = {\n",
    "    \"name\" : \"GadgetWorld\",\n",
    "    \"branches\" : 15,\n",
    "    \"offer\" : [\"discount\",\"cashback\",\"no cost EMI\"],\n",
    "    \"online\" : True,\n",
    "    \"ratings\" : {\"google\" : 4.5, \"JustDial\" : 4.2}\n",
    "}\n",
    "\n",
    "print (products[3][\"name\"], \"price is ₹\", products[3][\"price\"])\n",
    "print (products[4])\n",
    "print (\"rating from JusDial :\",store[\"ratings\"][\"JustDial\"])\n",
    "print (\"check store is online :\",store[\"online\"])\n"
   ]
  },
  {
   "cell_type": "markdown",
   "id": "bf696dc3",
   "metadata": {},
   "source": [
    "Example 5"
   ]
  },
  {
   "cell_type": "code",
   "execution_count": 84,
   "id": "5b1855a6",
   "metadata": {},
   "outputs": [
    {
     "name": "stdout",
     "output_type": "stream",
     "text": [
      "total students : 5\n",
      "Simran get 90 marks\n",
      "is private : False\n",
      "principle name : Mr. Sharma\n"
     ]
    }
   ],
   "source": [
    "students = [\n",
    "    {\"roll\": 1, \"name\": \"Arjun\", \"marks\": 85, \"passed\": True},\n",
    "    {\"roll\": 2, \"name\": \"Riya\", \"marks\": 45, \"passed\": False},\n",
    "    {\"roll\": 3, \"name\": \"Kabir\", \"marks\": 72, \"passed\": True},\n",
    "    {\"roll\": 4, \"name\": \"Simran\", \"marks\": 90, \"passed\": True},\n",
    "    {\"roll\": 5, \"name\": \"Iqbal\", \"marks\": 33, \"passed\": False}\n",
    "]\n",
    "\n",
    "school = {\n",
    "    \"name\": \"City High School\",\n",
    "    \"founded\": 1995,\n",
    "    \"is_private\": False,\n",
    "    \"classes\": [\"5th\", \"6th\", \"7th\", \"8th\", \"9th\", \"10th\"],\n",
    "    \"principal\": {\"name\": \"Mr. Sharma\", \"experience\": 20}\n",
    "}\n",
    "\n",
    "print (\"total students :\", len(students))\n",
    "print (students[3][\"name\"], \"get\", students[3][\"marks\"],\"marks\")\n",
    "print (\"is private :\",school[\"is_private\"])\n",
    "print (\"principle name :\", school[\"principal\"][\"name\"])\n"
   ]
  },
  {
   "cell_type": "markdown",
   "id": "b369193f",
   "metadata": {},
   "source": [
    "Example 6"
   ]
  },
  {
   "cell_type": "code",
   "execution_count": 109,
   "id": "758da764",
   "metadata": {},
   "outputs": [
    {
     "name": "stdout",
     "output_type": "stream",
     "text": [
      "population of Mumbai : 200\n",
      "Pune + Bhopal population : 125\n",
      "Chennai\n",
      "type of cities : <class 'list'>, type of city_population : <class 'dict'>\n"
     ]
    }
   ],
   "source": [
    "cities = [\n",
    "    \"Nagpur\",\"Mumbai\",\"Delhi\",\"Chennai\",\"Kolkata\",\n",
    "    \"Pune\",\"Bangalore\",\"Hyderabad\",\"Jaipur\",\"Lucknow\",\n",
    "    \"Kanpur\",\"Bhopal\",\"Patna\",\"Indore\",\"Surat\",\n",
    "    \"Ahmedabad\",\"Chandigarh\",\"Goa\",\"Ranchi\",\"Raipur\",\n",
    "    \"Nashik\",\"Aurangabad\",\"Thane\",\"Nagaur\",\"Guwahati\"\n",
    "]\n",
    "\n",
    "city_population = {\n",
    "    \"Nagpur\": 24,\"Mumbai\": 200,\"Delhi\": 180,\"Chennai\": 90,\"Kolkata\": 140,\n",
    "    \"Pune\": 80,\"Bangalore\": 120,\"Hyderabad\": 110,\"Jaipur\": 60,\"Lucknow\": 70,\n",
    "    \"Kanpur\": 65,\"Bhopal\": 45,\"Patna\": 75,\"Indore\": 40,\"Surat\": 55,\n",
    "    \"Ahmedabad\": 85,\"Chandigarh\": 20,\"Goa\": 15,\"Ranchi\": 25,\"Raipur\": 30\n",
    "}\n",
    "\n",
    "print (\"population of Mumbai :\", city_population[\"Mumbai\"])\n",
    "print (\"Pune + Bhopal population :\", city_population[\"Pune\"] + city_population[\"Bhopal\"])\n",
    "print (cities[3])\n",
    "print (f\"type of cities : {type(cities)}\" \",\",\n",
    "       f\"type of city_population : {type(city_population)}\")\n",
    "       "
   ]
  }
 ],
 "metadata": {
  "kernelspec": {
   "display_name": "Python 3",
   "language": "python",
   "name": "python3"
  },
  "language_info": {
   "codemirror_mode": {
    "name": "ipython",
    "version": 3
   },
   "file_extension": ".py",
   "mimetype": "text/x-python",
   "name": "python",
   "nbconvert_exporter": "python",
   "pygments_lexer": "ipython3",
   "version": "3.13.5"
  }
 },
 "nbformat": 4,
 "nbformat_minor": 5
}
